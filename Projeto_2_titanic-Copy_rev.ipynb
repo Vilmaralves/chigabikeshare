{
 "cells": [
  {
   "cell_type": "markdown",
   "metadata": {},
   "source": [
    "# Projeto 2 - Introdução a Data Sciense\n",
    "Este projeto na análise de dados demográficos e informações de 891 dos 2.224 passageiros e tripulantes a bordo do Titanic. Informações disponíveis em https://www.kaggle.com/c/titanic/data.\n",
    "* Autor: Vilmar dos Santos Alves\n",
    "\n",
    "### Dicionário dos dados:\n",
    "* Survived (0 = No; 1 = Yes). \n",
    "* Pclass - Passenger Class (1 = 1st; 2 = 2nd; 3 = 3rd)\n",
    "* Name - Name\n",
    "* Sex - Sex\n",
    "* Age - Age\n",
    "* Sibsp - Number of Siblings/Spouses Aboard\n",
    "* Parch - Number of Parents/Children Aboard\n",
    "* Ticket - Ticket Number\n",
    "* Fare - Passenger Fare\n",
    "* Cabin - Cabin\n",
    "* Embarked - Port of Embarkation (C = Cherbourg; Q = Queenstown; S = Southampton)\n",
    "\n",
    "### Perguntas:\n",
    "1. Pessoas de qual sexo teve maior taxa de sobrevivência?\n",
    "\n",
    "2. Como foi o comportamento de sobrevivência por classe?\n",
    "\n",
    "3. Como foi a sobrevivência por idade?\n",
    "\n",
    "4. Qual foi a tarifa média entre sobreviventes e mortos?\n",
    "\n",
    "5. Como foi o comportamento de sobrevivência por quantidade de pais/filhos e por irmãos?\n",
    "\n",
    "6. Há alguma correlação entre as variáveis disponíveis?"
   ]
  },
  {
   "cell_type": "code",
   "execution_count": 3,
   "metadata": {},
   "outputs": [],
   "source": [
    "#Importe os pacotes necessários e carregue o arquivo `titanic_data_6.csv`\n",
    "import pandas as pd\n",
    "import matplotlib.pyplot as plt\n",
    "import numpy as np\n",
    "%matplotlib inline\n",
    "import seaborn as sns\n",
    "sns.set_style('darkgrid')\n",
    "df_tt = pd.read_csv('titanic_data_6.csv')"
   ]
  },
  {
   "cell_type": "code",
   "execution_count": 4,
   "metadata": {},
   "outputs": [
    {
     "data": {
      "text/html": [
       "<div>\n",
       "<style scoped>\n",
       "    .dataframe tbody tr th:only-of-type {\n",
       "        vertical-align: middle;\n",
       "    }\n",
       "\n",
       "    .dataframe tbody tr th {\n",
       "        vertical-align: top;\n",
       "    }\n",
       "\n",
       "    .dataframe thead th {\n",
       "        text-align: right;\n",
       "    }\n",
       "</style>\n",
       "<table border=\"1\" class=\"dataframe\">\n",
       "  <thead>\n",
       "    <tr style=\"text-align: right;\">\n",
       "      <th></th>\n",
       "      <th>PassengerId</th>\n",
       "      <th>Survived</th>\n",
       "      <th>Pclass</th>\n",
       "      <th>Name</th>\n",
       "      <th>Sex</th>\n",
       "      <th>Age</th>\n",
       "      <th>SibSp</th>\n",
       "      <th>Parch</th>\n",
       "      <th>Ticket</th>\n",
       "      <th>Fare</th>\n",
       "      <th>Cabin</th>\n",
       "      <th>Embarked</th>\n",
       "    </tr>\n",
       "  </thead>\n",
       "  <tbody>\n",
       "    <tr>\n",
       "      <th>0</th>\n",
       "      <td>1</td>\n",
       "      <td>0</td>\n",
       "      <td>3</td>\n",
       "      <td>Braund, Mr. Owen Harris</td>\n",
       "      <td>male</td>\n",
       "      <td>22.0</td>\n",
       "      <td>1</td>\n",
       "      <td>0</td>\n",
       "      <td>A/5 21171</td>\n",
       "      <td>7.2500</td>\n",
       "      <td>NaN</td>\n",
       "      <td>S</td>\n",
       "    </tr>\n",
       "    <tr>\n",
       "      <th>1</th>\n",
       "      <td>2</td>\n",
       "      <td>1</td>\n",
       "      <td>1</td>\n",
       "      <td>Cumings, Mrs. John Bradley (Florence Briggs Th...</td>\n",
       "      <td>female</td>\n",
       "      <td>38.0</td>\n",
       "      <td>1</td>\n",
       "      <td>0</td>\n",
       "      <td>PC 17599</td>\n",
       "      <td>71.2833</td>\n",
       "      <td>C85</td>\n",
       "      <td>C</td>\n",
       "    </tr>\n",
       "    <tr>\n",
       "      <th>2</th>\n",
       "      <td>3</td>\n",
       "      <td>1</td>\n",
       "      <td>3</td>\n",
       "      <td>Heikkinen, Miss. Laina</td>\n",
       "      <td>female</td>\n",
       "      <td>26.0</td>\n",
       "      <td>0</td>\n",
       "      <td>0</td>\n",
       "      <td>STON/O2. 3101282</td>\n",
       "      <td>7.9250</td>\n",
       "      <td>NaN</td>\n",
       "      <td>S</td>\n",
       "    </tr>\n",
       "    <tr>\n",
       "      <th>3</th>\n",
       "      <td>4</td>\n",
       "      <td>1</td>\n",
       "      <td>1</td>\n",
       "      <td>Futrelle, Mrs. Jacques Heath (Lily May Peel)</td>\n",
       "      <td>female</td>\n",
       "      <td>35.0</td>\n",
       "      <td>1</td>\n",
       "      <td>0</td>\n",
       "      <td>113803</td>\n",
       "      <td>53.1000</td>\n",
       "      <td>C123</td>\n",
       "      <td>S</td>\n",
       "    </tr>\n",
       "    <tr>\n",
       "      <th>4</th>\n",
       "      <td>5</td>\n",
       "      <td>0</td>\n",
       "      <td>3</td>\n",
       "      <td>Allen, Mr. William Henry</td>\n",
       "      <td>male</td>\n",
       "      <td>35.0</td>\n",
       "      <td>0</td>\n",
       "      <td>0</td>\n",
       "      <td>373450</td>\n",
       "      <td>8.0500</td>\n",
       "      <td>NaN</td>\n",
       "      <td>S</td>\n",
       "    </tr>\n",
       "  </tbody>\n",
       "</table>\n",
       "</div>"
      ],
      "text/plain": [
       "   PassengerId  Survived  Pclass  \\\n",
       "0            1         0       3   \n",
       "1            2         1       1   \n",
       "2            3         1       3   \n",
       "3            4         1       1   \n",
       "4            5         0       3   \n",
       "\n",
       "                                                Name     Sex   Age  SibSp  \\\n",
       "0                            Braund, Mr. Owen Harris    male  22.0      1   \n",
       "1  Cumings, Mrs. John Bradley (Florence Briggs Th...  female  38.0      1   \n",
       "2                             Heikkinen, Miss. Laina  female  26.0      0   \n",
       "3       Futrelle, Mrs. Jacques Heath (Lily May Peel)  female  35.0      1   \n",
       "4                           Allen, Mr. William Henry    male  35.0      0   \n",
       "\n",
       "   Parch            Ticket     Fare Cabin Embarked  \n",
       "0      0         A/5 21171   7.2500   NaN        S  \n",
       "1      0          PC 17599  71.2833   C85        C  \n",
       "2      0  STON/O2. 3101282   7.9250   NaN        S  \n",
       "3      0            113803  53.1000  C123        S  \n",
       "4      0            373450   8.0500   NaN        S  "
      ]
     },
     "execution_count": 4,
     "metadata": {},
     "output_type": "execute_result"
    }
   ],
   "source": [
    "#Mostrar as primeiras linhas do banco de dados para conferência\n",
    "df_tt.head()"
   ]
  },
  {
   "cell_type": "code",
   "execution_count": 5,
   "metadata": {},
   "outputs": [
    {
     "data": {
      "text/plain": [
       "(891, 12)"
      ]
     },
     "execution_count": 5,
     "metadata": {},
     "output_type": "execute_result"
    }
   ],
   "source": [
    "#Calcule o número de linhas e colunas no formato (linha, colunas)\n",
    "df_tt.shape"
   ]
  },
  {
   "cell_type": "markdown",
   "metadata": {},
   "source": [
    "### Tamanho do banco de dados:\n",
    "O banco de dados contém 891 linhas e 12 colunas."
   ]
  },
  {
   "cell_type": "code",
   "execution_count": 6,
   "metadata": {},
   "outputs": [
    {
     "data": {
      "text/plain": [
       "PassengerId      int64\n",
       "Survived         int64\n",
       "Pclass           int64\n",
       "Name            object\n",
       "Sex             object\n",
       "Age            float64\n",
       "SibSp            int64\n",
       "Parch            int64\n",
       "Ticket          object\n",
       "Fare           float64\n",
       "Cabin           object\n",
       "Embarked        object\n",
       "dtype: object"
      ]
     },
     "execution_count": 6,
     "metadata": {},
     "output_type": "execute_result"
    }
   ],
   "source": [
    "#Identifique os tipos de variáveis: int64 = integer; float64 = float; object = string\n",
    "df_tt.dtypes"
   ]
  },
  {
   "cell_type": "markdown",
   "metadata": {},
   "source": [
    "### Variáveis do banco de dados:\n",
    "* PassengerId   -   integer\n",
    "* Survived      -   integer\n",
    "* Pclass        -   integer\n",
    "* Name          -   string\n",
    "* Sex           -   string\n",
    "* Age           -   float\n",
    "* SibSp         -   integer\n",
    "* Parch         -   integer\n",
    "* Ticket        -   string\n",
    "* Fare          -   float\n",
    "* Cabin         -   string\n",
    "* Embarked      -   string\n",
    "\n",
    "## Preparando o banco de dados para análise\n",
    "Utilizamos a função dt_tt.info() para identificar os valores faltantes."
   ]
  },
  {
   "cell_type": "code",
   "execution_count": 34,
   "metadata": {},
   "outputs": [
    {
     "name": "stdout",
     "output_type": "stream",
     "text": [
      "<class 'pandas.core.frame.DataFrame'>\n",
      "RangeIndex: 891 entries, 0 to 890\n",
      "Data columns (total 12 columns):\n",
      "PassengerId    891 non-null int64\n",
      "Survived       891 non-null int64\n",
      "Pclass         891 non-null int64\n",
      "Name           891 non-null object\n",
      "Sex            891 non-null object\n",
      "Age            714 non-null float64\n",
      "SibSp          891 non-null int64\n",
      "Parch          891 non-null int64\n",
      "Ticket         891 non-null object\n",
      "Fare           891 non-null float64\n",
      "Cabin          204 non-null object\n",
      "Embarked       889 non-null object\n",
      "dtypes: float64(2), int64(5), object(5)\n",
      "memory usage: 83.6+ KB\n"
     ]
    }
   ],
   "source": [
    "# Identifique os valores faltantes\n",
    "df_tt.info()"
   ]
  },
  {
   "cell_type": "markdown",
   "metadata": {},
   "source": [
    "### Dados faltantes\n",
    "Verificou-se que faltam 177 dados da variável 'Age', 687 dados de 'Cabin' e 2 dados de 'Embarked'.\n",
    "\n",
    "Na limpeza e tratamento dos dados utilizamos três funções:\n",
    "* df.drop() - para excluir as colunas 'Ticket' e 'Cabin', já que não as usaremos neste análise.\n",
    "* df.fillna(df[].mean(), inplace=True) - para preencher os os campos vazios da coluna 'Age'.\n",
    "* df.dropna() - para excluir as linhas que estão em branco na coluna 'Embarked'.\n",
    "\n",
    "Vejamos a aplicação a seguir:"
   ]
  },
  {
   "cell_type": "code",
   "execution_count": 35,
   "metadata": {},
   "outputs": [],
   "source": [
    "# descarte colunas do conjunto de dados (ticket e cabin) que não serão utilizados na análise\n",
    "df_tt.drop(['Ticket', 'Cabin'], axis=1, inplace=True)"
   ]
  },
  {
   "cell_type": "code",
   "execution_count": 36,
   "metadata": {},
   "outputs": [
    {
     "name": "stdout",
     "output_type": "stream",
     "text": [
      "<class 'pandas.core.frame.DataFrame'>\n",
      "Int64Index: 889 entries, 0 to 890\n",
      "Data columns (total 10 columns):\n",
      "PassengerId    889 non-null int64\n",
      "Survived       889 non-null int64\n",
      "Pclass         889 non-null int64\n",
      "Name           889 non-null object\n",
      "Sex            889 non-null object\n",
      "Age            889 non-null float64\n",
      "SibSp          889 non-null int64\n",
      "Parch          889 non-null int64\n",
      "Fare           889 non-null float64\n",
      "Embarked       889 non-null object\n",
      "dtypes: float64(2), int64(5), object(3)\n",
      "memory usage: 76.4+ KB\n"
     ]
    }
   ],
   "source": [
    "# use médias para preencher valores ausentes da idade\n",
    "df_tt['Age'].fillna(df_tt['Age'].mean(), inplace=True)\n",
    "\n",
    "# descarte as linhas que possui campos em branco \n",
    "df_tt.dropna(inplace=True)\n",
    "\n",
    "df_tt.info()\n",
    "# confirme sua correção com info()"
   ]
  },
  {
   "cell_type": "markdown",
   "metadata": {},
   "source": [
    "### Dados após a limpeza\n",
    "Observa-se acima que foram excluidas as colunas 'Ticket' e 'Cabin'. \n",
    "\n",
    "Em seguida foi utilizada a média para preencher os dados faltantes na idade. O preenchimentos considerou a média  por meio da função df_tt.['Age'].mean.\n",
    "\n",
    "E finalmente como foram excluídas duas linhas, que antes eram 891 e agora é 889."
   ]
  },
  {
   "cell_type": "code",
   "execution_count": 37,
   "metadata": {},
   "outputs": [
    {
     "data": {
      "text/html": [
       "<div>\n",
       "<style scoped>\n",
       "    .dataframe tbody tr th:only-of-type {\n",
       "        vertical-align: middle;\n",
       "    }\n",
       "\n",
       "    .dataframe tbody tr th {\n",
       "        vertical-align: top;\n",
       "    }\n",
       "\n",
       "    .dataframe thead th {\n",
       "        text-align: right;\n",
       "    }\n",
       "</style>\n",
       "<table border=\"1\" class=\"dataframe\">\n",
       "  <thead>\n",
       "    <tr style=\"text-align: right;\">\n",
       "      <th></th>\n",
       "      <th>PassengerId</th>\n",
       "      <th>Survived</th>\n",
       "      <th>Pclass</th>\n",
       "      <th>Name</th>\n",
       "      <th>Sex</th>\n",
       "      <th>Age</th>\n",
       "      <th>SibSp</th>\n",
       "      <th>Parch</th>\n",
       "      <th>Fare</th>\n",
       "      <th>Embarked</th>\n",
       "    </tr>\n",
       "  </thead>\n",
       "  <tbody>\n",
       "    <tr>\n",
       "      <th>0</th>\n",
       "      <td>1</td>\n",
       "      <td>0</td>\n",
       "      <td>3</td>\n",
       "      <td>Braund, Mr. Owen Harris</td>\n",
       "      <td>male</td>\n",
       "      <td>22.0</td>\n",
       "      <td>1</td>\n",
       "      <td>0</td>\n",
       "      <td>7.2500</td>\n",
       "      <td>S</td>\n",
       "    </tr>\n",
       "    <tr>\n",
       "      <th>1</th>\n",
       "      <td>2</td>\n",
       "      <td>1</td>\n",
       "      <td>1</td>\n",
       "      <td>Cumings, Mrs. John Bradley (Florence Briggs Th...</td>\n",
       "      <td>female</td>\n",
       "      <td>38.0</td>\n",
       "      <td>1</td>\n",
       "      <td>0</td>\n",
       "      <td>71.2833</td>\n",
       "      <td>C</td>\n",
       "    </tr>\n",
       "    <tr>\n",
       "      <th>2</th>\n",
       "      <td>3</td>\n",
       "      <td>1</td>\n",
       "      <td>3</td>\n",
       "      <td>Heikkinen, Miss. Laina</td>\n",
       "      <td>female</td>\n",
       "      <td>26.0</td>\n",
       "      <td>0</td>\n",
       "      <td>0</td>\n",
       "      <td>7.9250</td>\n",
       "      <td>S</td>\n",
       "    </tr>\n",
       "    <tr>\n",
       "      <th>3</th>\n",
       "      <td>4</td>\n",
       "      <td>1</td>\n",
       "      <td>1</td>\n",
       "      <td>Futrelle, Mrs. Jacques Heath (Lily May Peel)</td>\n",
       "      <td>female</td>\n",
       "      <td>35.0</td>\n",
       "      <td>1</td>\n",
       "      <td>0</td>\n",
       "      <td>53.1000</td>\n",
       "      <td>S</td>\n",
       "    </tr>\n",
       "    <tr>\n",
       "      <th>4</th>\n",
       "      <td>5</td>\n",
       "      <td>0</td>\n",
       "      <td>3</td>\n",
       "      <td>Allen, Mr. William Henry</td>\n",
       "      <td>male</td>\n",
       "      <td>35.0</td>\n",
       "      <td>0</td>\n",
       "      <td>0</td>\n",
       "      <td>8.0500</td>\n",
       "      <td>S</td>\n",
       "    </tr>\n",
       "  </tbody>\n",
       "</table>\n",
       "</div>"
      ],
      "text/plain": [
       "   PassengerId  Survived  Pclass  \\\n",
       "0            1         0       3   \n",
       "1            2         1       1   \n",
       "2            3         1       3   \n",
       "3            4         1       1   \n",
       "4            5         0       3   \n",
       "\n",
       "                                                Name     Sex   Age  SibSp  \\\n",
       "0                            Braund, Mr. Owen Harris    male  22.0      1   \n",
       "1  Cumings, Mrs. John Bradley (Florence Briggs Th...  female  38.0      1   \n",
       "2                             Heikkinen, Miss. Laina  female  26.0      0   \n",
       "3       Futrelle, Mrs. Jacques Heath (Lily May Peel)  female  35.0      1   \n",
       "4                           Allen, Mr. William Henry    male  35.0      0   \n",
       "\n",
       "   Parch     Fare Embarked  \n",
       "0      0   7.2500        S  \n",
       "1      0  71.2833        C  \n",
       "2      0   7.9250        S  \n",
       "3      0  53.1000        S  \n",
       "4      0   8.0500        S  "
      ]
     },
     "execution_count": 37,
     "metadata": {},
     "output_type": "execute_result"
    }
   ],
   "source": [
    "#Mostrar as primeiras linhas do banco de dados para conferência\n",
    "df_tt.head()"
   ]
  },
  {
   "cell_type": "markdown",
   "metadata": {},
   "source": [
    "### Confirmação da limpeza de dados\n",
    "Foi utilizada a função 'df.head()' para confirmar de que não houve alteração indevida dos dados. \n",
    "\n",
    "Como os dados apresentaram que continuam no meso padrão após a limpeza utizou-se a seguir a função 'def has_duplicate()', para verificar se há valores duplicados. E conforme aplicação abaixo 'Não há valores duplicados'."
   ]
  },
  {
   "cell_type": "code",
   "execution_count": 38,
   "metadata": {},
   "outputs": [
    {
     "name": "stdout",
     "output_type": "stream",
     "text": [
      "Não possui valores duplicados\n"
     ]
    }
   ],
   "source": [
    "#Identifique os valores duplicados\n",
    "def has_duplicate(df_tt):\n",
    "    if df_tt.duplicated().any():\n",
    "        print('Possui {0} valores duplicados'.format(df_tt.duplicated().sum()))\n",
    "    else:\n",
    "        print('Não possui valores duplicados')\n",
    "has_duplicate(df_tt)"
   ]
  },
  {
   "cell_type": "markdown",
   "metadata": {},
   "source": [
    "### Análise descritiva dos dados\n",
    "A aplicação da função 'df.nunique() abaixo retornou os valores únicos para cada coluna."
   ]
  },
  {
   "cell_type": "code",
   "execution_count": 39,
   "metadata": {},
   "outputs": [
    {
     "data": {
      "text/plain": [
       "PassengerId    889\n",
       "Survived         2\n",
       "Pclass           3\n",
       "Name           889\n",
       "Sex              2\n",
       "Age             89\n",
       "SibSp            7\n",
       "Parch            7\n",
       "Fare           247\n",
       "Embarked         3\n",
       "dtype: int64"
      ]
     },
     "execution_count": 39,
     "metadata": {},
     "output_type": "execute_result"
    }
   ],
   "source": [
    "#Calcule os valores únicos\n",
    "df_tt.nunique()"
   ]
  },
  {
   "cell_type": "markdown",
   "metadata": {},
   "source": [
    "### Análise descritiva dos dados\n",
    "A atulização da função 'df_tt.describe()' retorna a análise descritiva (contagem, média, desvio padrão, percentis mínimo, 25%, 50%, 75% e máximo), conforme tabela a seguir:"
   ]
  },
  {
   "cell_type": "code",
   "execution_count": 40,
   "metadata": {},
   "outputs": [
    {
     "data": {
      "text/html": [
       "<div>\n",
       "<style scoped>\n",
       "    .dataframe tbody tr th:only-of-type {\n",
       "        vertical-align: middle;\n",
       "    }\n",
       "\n",
       "    .dataframe tbody tr th {\n",
       "        vertical-align: top;\n",
       "    }\n",
       "\n",
       "    .dataframe thead th {\n",
       "        text-align: right;\n",
       "    }\n",
       "</style>\n",
       "<table border=\"1\" class=\"dataframe\">\n",
       "  <thead>\n",
       "    <tr style=\"text-align: right;\">\n",
       "      <th></th>\n",
       "      <th>PassengerId</th>\n",
       "      <th>Survived</th>\n",
       "      <th>Pclass</th>\n",
       "      <th>Age</th>\n",
       "      <th>SibSp</th>\n",
       "      <th>Parch</th>\n",
       "      <th>Fare</th>\n",
       "    </tr>\n",
       "  </thead>\n",
       "  <tbody>\n",
       "    <tr>\n",
       "      <th>count</th>\n",
       "      <td>889.000000</td>\n",
       "      <td>889.000000</td>\n",
       "      <td>889.000000</td>\n",
       "      <td>889.000000</td>\n",
       "      <td>889.000000</td>\n",
       "      <td>889.000000</td>\n",
       "      <td>889.000000</td>\n",
       "    </tr>\n",
       "    <tr>\n",
       "      <th>mean</th>\n",
       "      <td>446.000000</td>\n",
       "      <td>0.382452</td>\n",
       "      <td>2.311586</td>\n",
       "      <td>29.653446</td>\n",
       "      <td>0.524184</td>\n",
       "      <td>0.382452</td>\n",
       "      <td>32.096681</td>\n",
       "    </tr>\n",
       "    <tr>\n",
       "      <th>std</th>\n",
       "      <td>256.998173</td>\n",
       "      <td>0.486260</td>\n",
       "      <td>0.834700</td>\n",
       "      <td>12.968366</td>\n",
       "      <td>1.103705</td>\n",
       "      <td>0.806761</td>\n",
       "      <td>49.697504</td>\n",
       "    </tr>\n",
       "    <tr>\n",
       "      <th>min</th>\n",
       "      <td>1.000000</td>\n",
       "      <td>0.000000</td>\n",
       "      <td>1.000000</td>\n",
       "      <td>0.420000</td>\n",
       "      <td>0.000000</td>\n",
       "      <td>0.000000</td>\n",
       "      <td>0.000000</td>\n",
       "    </tr>\n",
       "    <tr>\n",
       "      <th>25%</th>\n",
       "      <td>224.000000</td>\n",
       "      <td>0.000000</td>\n",
       "      <td>2.000000</td>\n",
       "      <td>22.000000</td>\n",
       "      <td>0.000000</td>\n",
       "      <td>0.000000</td>\n",
       "      <td>7.895800</td>\n",
       "    </tr>\n",
       "    <tr>\n",
       "      <th>50%</th>\n",
       "      <td>446.000000</td>\n",
       "      <td>0.000000</td>\n",
       "      <td>3.000000</td>\n",
       "      <td>29.699118</td>\n",
       "      <td>0.000000</td>\n",
       "      <td>0.000000</td>\n",
       "      <td>14.454200</td>\n",
       "    </tr>\n",
       "    <tr>\n",
       "      <th>75%</th>\n",
       "      <td>668.000000</td>\n",
       "      <td>1.000000</td>\n",
       "      <td>3.000000</td>\n",
       "      <td>35.000000</td>\n",
       "      <td>1.000000</td>\n",
       "      <td>0.000000</td>\n",
       "      <td>31.000000</td>\n",
       "    </tr>\n",
       "    <tr>\n",
       "      <th>max</th>\n",
       "      <td>891.000000</td>\n",
       "      <td>1.000000</td>\n",
       "      <td>3.000000</td>\n",
       "      <td>80.000000</td>\n",
       "      <td>8.000000</td>\n",
       "      <td>6.000000</td>\n",
       "      <td>512.329200</td>\n",
       "    </tr>\n",
       "  </tbody>\n",
       "</table>\n",
       "</div>"
      ],
      "text/plain": [
       "       PassengerId    Survived      Pclass         Age       SibSp  \\\n",
       "count   889.000000  889.000000  889.000000  889.000000  889.000000   \n",
       "mean    446.000000    0.382452    2.311586   29.653446    0.524184   \n",
       "std     256.998173    0.486260    0.834700   12.968366    1.103705   \n",
       "min       1.000000    0.000000    1.000000    0.420000    0.000000   \n",
       "25%     224.000000    0.000000    2.000000   22.000000    0.000000   \n",
       "50%     446.000000    0.000000    3.000000   29.699118    0.000000   \n",
       "75%     668.000000    1.000000    3.000000   35.000000    1.000000   \n",
       "max     891.000000    1.000000    3.000000   80.000000    8.000000   \n",
       "\n",
       "            Parch        Fare  \n",
       "count  889.000000  889.000000  \n",
       "mean     0.382452   32.096681  \n",
       "std      0.806761   49.697504  \n",
       "min      0.000000    0.000000  \n",
       "25%      0.000000    7.895800  \n",
       "50%      0.000000   14.454200  \n",
       "75%      0.000000   31.000000  \n",
       "max      6.000000  512.329200  "
      ]
     },
     "execution_count": 40,
     "metadata": {},
     "output_type": "execute_result"
    }
   ],
   "source": [
    "#Faça análise descritiva das variáveis integer e float\n",
    "df_tt.describe()"
   ]
  },
  {
   "cell_type": "markdown",
   "metadata": {},
   "source": [
    "### Análise da sobrevivência por sexo:"
   ]
  },
  {
   "cell_type": "code",
   "execution_count": 41,
   "metadata": {},
   "outputs": [
    {
     "data": {
      "text/plain": [
       "Sex\n",
       "female    0.740385\n",
       "male      0.188908\n",
       "Name: Survived, dtype: float64"
      ]
     },
     "execution_count": 41,
     "metadata": {},
     "output_type": "execute_result"
    },
    {
     "data": {
      "image/png": "[encoded data removed]",
      "text/plain": [
       "<Figure size 432x288 with 1 Axes>"
      ]
     },
     "metadata": {},
     "output_type": "display_data"
    }
   ],
   "source": [
    "# Para trocar os valores numéricos pelos nomes nos gráficos\n",
    "survived_map = {0: 'Died', 1: 'Survived'} #https://github.com/carlosbaia/carlosbaia.github.io/blob/master/notebook/visualizacao-e-analise-de-dados.ipynb\n",
    "\n",
    "#Plota gráfico setorial\n",
    "df_tt.Survived.map(survived_map).value_counts().plot(kind='pie', autopct='%.2f%%')\n",
    "plt.axis('equal');\n",
    "\n",
    "# Calcula mpedia de sobrevivencia agrupado por sexo\n",
    "df_tt.groupby(['Sex']).mean()['Survived']\n",
    "\n"
   ]
  },
  {
   "cell_type": "markdown",
   "metadata": {},
   "source": [
    "Verifica-se que dos 889 casos avaliados, 61,75% eram foram a óbito e 38,25% sobreviveram ao naufrágio.\n",
    "\n",
    "Quando analisado somente entre os homens a sobrevivêncian foi somente de 18,89% enquanto que entre as mulheres foi de 74,04%, conforme dados acima.\n",
    "******************************************************************************************************************\n",
    "#### O gráfico a seguir demonstra os quantitativos e proporções por sexo."
   ]
  },
  {
   "cell_type": "code",
   "execution_count": 44,
   "metadata": {},
   "outputs": [
    {
     "data": {
      "text/plain": [
       "Text(0.5,1,'Sobreviventes/Não-Sobreviventes por sexo e idade')"
      ]
     },
     "execution_count": 44,
     "metadata": {},
     "output_type": "execute_result"
    },
    {
     "data": {
      "image/png": "[encoded data removed]",
      "text/plain": [
       "<Figure size 1008x432 with 1 Axes>"
      ]
     },
     "metadata": {},
     "output_type": "display_data"
    }
   ],
   "source": [
    "#Plote gráfico violino de Sexo x Idade\n",
    "#https://ahmedbesbes.com/how-to-score-08134-in-titanic-kaggle-challenge.html\n",
    "fig = plt.figure(figsize=(14, 6))\n",
    "sns.violinplot(x='Sex', y='Age', \n",
    "               hue='Survived', data=df_tt, \n",
    "               split=True,\n",
    "               palette={0: \"r\", 1: \"g\"}\n",
    "              );\n",
    "plt.title('Sobreviventes/Não-Sobreviventes por sexo e idade')"
   ]
  },
  {
   "cell_type": "markdown",
   "metadata": {},
   "source": [
    "De acordo com o gráfico, verifica-se que a maior taxa de sobrevivência de concentrou entre as mulheres, demonstrando equíbrio entre vivos e mortos. Quanto aos homens, somente entre as crianças ouve a sobrevivência da maior. Já nas demais faixas etárias a maioria foi a óbito.\n",
    "******************************************************************************************************************\n",
    "\n",
    "#### O gráfico a seguir mostra os mortos e sobreviventes classificados por gênero e classe"
   ]
  },
  {
   "cell_type": "code",
   "execution_count": 45,
   "metadata": {},
   "outputs": [
    {
     "data": {
      "text/plain": [
       "Text(0.5,1,'Sobreviventes/Não-Sobreviventes por sexo e classe')"
      ]
     },
     "execution_count": 45,
     "metadata": {},
     "output_type": "execute_result"
    },
    {
     "data": {
      "image/png": "[encoded data removed]",
      "text/plain": [
       "<Figure size 1008x432 with 1 Axes>"
      ]
     },
     "metadata": {},
     "output_type": "display_data"
    }
   ],
   "source": [
    "# Plote gráfico de sobrevivência ou não por sexo e classe.\n",
    "#https://ahmedbesbes.com/how-to-score-08134-in-titanic-kaggle-challenge.html\n",
    "fig = plt.figure(figsize=(14, 6))\n",
    "sns.violinplot(x='Sex', y='Pclass', \n",
    "               hue='Survived', data=df_tt, \n",
    "               split=True,\n",
    "               palette={0: \"r\", 1: \"g\"}\n",
    "              );\n",
    "plt.title('Sobreviventes/Não-Sobreviventes por sexo e classe')"
   ]
  },
  {
   "cell_type": "markdown",
   "metadata": {},
   "source": [
    "O que se verifica é que a sobrevivência foi maior entre os passageiros do sexo feminino e na primeira e segunda classe, sendo muito pequena a proporção de morte na primeira classe. \n",
    "\n",
    "Quando feita a mesma análise entre os passgeiros do sexo masculino, somente na primeira a maioria sobrevivel, mas aidna assim, houve muitas mortes entre os homens. Já na terceira classe a proporção de mortos foi muito superior aos sobreviventes entre ambos os sexos.\n",
    "******************************************************************************************************************\n",
    "### Análise da sobrevivência por idade média"
   ]
  },
  {
   "cell_type": "code",
   "execution_count": 16,
   "metadata": {},
   "outputs": [
    {
     "name": "stdout",
     "output_type": "stream",
     "text": [
      "MÉDIA\n",
      " Survived          0          1\n",
      "Sex                           \n",
      "female    26.023272  28.797265\n",
      "male      31.175224  27.631705\n",
      "\n",
      "MEDIANA\n",
      " Survived          0          1\n",
      "Sex                           \n",
      "female    29.000000  29.699118\n",
      "male      29.699118  29.699118\n"
     ]
    },
    {
     "data": {
      "image/png": "[encoded data removed]",
      "text/plain": [
       "<Figure size 432x288 with 1 Axes>"
      ]
     },
     "metadata": {},
     "output_type": "display_data"
    }
   ],
   "source": [
    "#Encontre a idade média de cada genêro e sobrevivência com groupby\n",
    "\n",
    "tab_mean = pd.pivot_table(data=df_tt, values='Age', index='Sex', columns='Survived', aggfunc='mean') \n",
    "\n",
    "#Encontre a idade mediana de cada genêro e sobrevivência com groupby\n",
    "tab_median = pd.pivot_table(data=df_tt, values='Age', index='Sex', columns='Survived', aggfunc='median')\n",
    "\n",
    "#Use query para selecionar cada grupo e obter a sobrevivência média\n",
    "median = df_tt['Age'].median()\n",
    "low = df_tt.query('Age < {}'.format(median))\n",
    "high = df_tt.query('Age >= {}'.format(median))\n",
    "\n",
    "mean_survived_low = low['Survived'].mean()\n",
    "mean_survived_high = high['Survived'].mean()\n",
    "\n",
    "# Crie um gráfico de barras com rótulos adequados\n",
    "locations = [1, 2]\n",
    "heights = [mean_survived_low, mean_survived_high]\n",
    "labels = ['Low', 'High']\n",
    "plt.bar(locations, heights, tick_label=labels)\n",
    "plt.title('Average Age by Survived')\n",
    "plt.xlabel('Age')\n",
    "plt.ylabel('Average Survived')\n",
    "\n",
    "\n",
    "#Imprime tabelas de média e mediana\n",
    "print('MÉDIA\\n',tab_mean)\n",
    "print('\\nMEDIANA\\n',tab_median)"
   ]
  },
  {
   "cell_type": "markdown",
   "metadata": {},
   "source": [
    "A taxa de sobrevivência entre os náufragos com idade abaixo da média (29.6) foi superior a 40%, enquanto que entre os demais foi de 37%.\n",
    "\n",
    "Pelas tabelas de média e mediana pode-se fazer as seguintes inferências:\n",
    "* A idade média das mulheres não sobreviventes é de 26,02 e das sobreviventes 28,8, e portanto as mulheres, bem como, pela mediana 29 anos no caso das não sobreviventes e 29,7 anos, entre as sobreviventes. Portanto as mulheres com mais idade tiveram mais chances de sobreviver.\n",
    "* Já entre os homens, embora a median tenha sido de 29,7 tanto entre sobreviventes e não sobreviventes, pela média os nao sobrevientes tinham 31,18 em média versus 27,63 dos sobreviventes. Neste caso os mais novos sobreviveram mais. Isso talvez faça sentido pelo motivo de que os meninos tenham sido salvos juntos com suas mães.\n",
    "******************************************************************************************************************\n",
    "### Análise da sobrevivência considerando a tarifa e a classe"
   ]
  },
  {
   "cell_type": "code",
   "execution_count": 23,
   "metadata": {},
   "outputs": [
    {
     "name": "stdout",
     "output_type": "stream",
     "text": [
      "TARIFA MÉDIA - POR TIPO SOBREVIVENTES\n",
      " Survived\n",
      "0    22.117887\n",
      "1    48.209498\n",
      "Name: Fare, dtype: float64\n",
      "\n",
      "TARIFA MÉDIA - CLASSE X SOBREVIVENTES\n",
      " Survived          0          1\n",
      "Pclass                        \n",
      "1         64.684008  95.840984\n",
      "2         19.412328  22.055700\n",
      "3         13.669364  13.694887\n"
     ]
    },
    {
     "data": {
      "text/plain": [
       "Text(0.5,1,'Histograma Tarifa x Passageiros')"
      ]
     },
     "execution_count": 23,
     "metadata": {},
     "output_type": "execute_result"
    },
    {
     "data": {
      "image/png": "[encoded data removed]",
      "text/plain": [
       "<Figure size 720x288 with 1 Axes>"
      ]
     },
     "metadata": {},
     "output_type": "display_data"
    }
   ],
   "source": [
    "#Encontre o valor médio de pagamento entre sobreviventes e não-sobreviventes \n",
    "tab_fare = pd.pivot_table(data=df_tt, values='Fare', index='Pclass', columns='Survived', aggfunc='mean') \n",
    "tab_surv = df_tt.groupby(['Survived']).mean()['Fare']\n",
    "\n",
    "#Imprime as tabelas tab_fare e tab_surv\n",
    "print('TARIFA MÉDIA - POR TIPO SOBREVIVENTES\\n', tab_surv)\n",
    "print('\\nTARIFA MÉDIA - CLASSE X SOBREVIVENTES\\n',tab_fare)\n",
    "\n",
    "# trace um gráfico com a distribuição da tarifa\n",
    "df_tt[\"Fare\"].hist(figsize=(10, 4))\n",
    "plt.xlabel('Fare')\n",
    "plt.ylabel('Passenger')\n",
    "plt.title('Histograma Tarifa x Passageiros')\n"
   ]
  },
  {
   "cell_type": "markdown",
   "metadata": {},
   "source": [
    "\n",
    "A tarifa média entre os mortos foi de 22.12, já entre os sobreviventes foi de 48.40. Ao analisar as tarifas médias por classe, infere-se que a maioria dos sobreviventes estavam na 1ª classe.\n",
    "\n",
    "Analisando por classe, temos as seguintes tarifas médias:\n",
    "* Entre os sobreviventes das 1ª classe a tarifa média foi de 95,84, contra 64,68 dos não-sobreviventes da mesma classe.\n",
    "* Na 2ª classe, segue de forma análoga 22,06 e 19,41, respectivamente.\n",
    "* Já terceira classe em ambos os caso é de 13,67.\n",
    "\n",
    "Complementarmente, veririfica-se no histograma que a maior parte dos passageis pagaram tarifa de até $50, e de 50 a 100.\n",
    "******************************"
   ]
  },
  {
   "cell_type": "code",
   "execution_count": 25,
   "metadata": {},
   "outputs": [
    {
     "name": "stdout",
     "output_type": "stream",
     "text": [
      "SOBREVIVENTES POR CLASSE\n",
      " Pclass\n",
      "1    0.626168\n",
      "2    0.472826\n",
      "3    0.242363\n",
      "Name: Survived, dtype: float64\n"
     ]
    },
    {
     "data": {
      "text/plain": [
       "Text(0.5,1,'Sobreviventes/Não-Sobreviventes por Classe')"
      ]
     },
     "execution_count": 25,
     "metadata": {},
     "output_type": "execute_result"
    },
    {
     "data": {
      "image/png": "[encoded data removed]",
      "text/plain": [
       "<Figure size 576x360 with 1 Axes>"
      ]
     },
     "metadata": {},
     "output_type": "display_data"
    }
   ],
   "source": [
    "#Encontre a média de sobrevivência \n",
    "tab_surv1 = df_tt.groupby(['Pclass']).mean()['Survived']\n",
    "print('SOBREVIVENTES POR CLASSE\\n', tab_surv1)\n",
    "\n",
    "#Plota gráfico de sobrevivência por classe\n",
    "def graf_survived(x, y,label):\n",
    "    df_grouped = df_tt.groupby(y)[x].count()\n",
    "    df_grouped.unstack().plot(kind='bar',stacked=True, grid=True, figsize=(8,5))\n",
    "    plt.ylabel(label)\n",
    "    \n",
    "graf_survived('Pclass',['Pclass', 'Survived'], 'Passenger');\n",
    "plt.title('Sobreviventes/Não-Sobreviventes por Classe')"
   ]
  },
  {
   "cell_type": "markdown",
   "metadata": {},
   "source": [
    "Observa-se que a sobrevivência por classe é de 62,96% entre a primeira classe, 47,28% na segunda e somente 24,23% na terceira. No entanto, dos 889 passageiros, aproximadamente 500 estavam na 3ª classe, o que explica o percentual elevado de óbito.\n",
    "*******************************************************\n",
    "### Análise por cidade de embarque"
   ]
  },
  {
   "cell_type": "code",
   "execution_count": 19,
   "metadata": {},
   "outputs": [
    {
     "name": "stdout",
     "output_type": "stream",
     "text": [
      "PASSAGEIROS POR CIDADE DE EMBARQUE\n",
      " Embarked\n",
      "C    0.553571\n",
      "Q    0.389610\n",
      "S    0.336957\n",
      "Name: Survived, dtype: float64\n",
      "\n",
      "PASSAGEIROS POR CIDADE DE EMBARQUE - SOBREVIVENTES\n",
      " Survived    0    1\n",
      "Embarked          \n",
      "C          75   93\n",
      "Q          47   30\n",
      "S         427  217\n"
     ]
    }
   ],
   "source": [
    "#Adaptado de http://minerandodados.com.br/index.php/2017/04/27/exploratory-data-analysis-eda/\n",
    "tab_city1 = df_tt.groupby(['Embarked']).mean()['Survived']\n",
    "tab_city2 = pd.pivot_table(data=df_tt, values='PassengerId', index='Embarked', \n",
    "                           columns='Survived', aggfunc='count') \n",
    "\n",
    "print('PASSAGEIROS POR CIDADE DE EMBARQUE\\n',tab_city1)\n",
    "print('\\nPASSAGEIROS POR CIDADE DE EMBARQUE - SOBREVIVENTES\\n',tab_city2)"
   ]
  },
  {
   "cell_type": "markdown",
   "metadata": {},
   "source": [
    "O Titanic parou em três cidades para embarque. A maior parte do passgeiros embarcaram na cidade de Southampton e em Queenstown tevem a minoria dos enmbarques. Quanto a taxa de sobrevivência os de Cherbourg foi de 0.553571, de Queenstown 0.389610 e 0.336957 em Southampton. \n",
    "**************************************\n",
    "### Análise de sobrevivência por quantidade filhos"
   ]
  },
  {
   "cell_type": "code",
   "execution_count": 27,
   "metadata": {},
   "outputs": [
    {
     "data": {
      "text/plain": [
       "Text(0.5,1,'Sobreviventes/Não-Sobreviventes por Nº de Pais/Filhos')"
      ]
     },
     "execution_count": 27,
     "metadata": {},
     "output_type": "execute_result"
    },
    {
     "data": {
      "image/png": "[encoded data removed]",
      "text/plain": [
       "<Figure size 576x360 with 1 Axes>"
      ]
     },
     "metadata": {},
     "output_type": "display_data"
    }
   ],
   "source": [
    "#Plote gráfico de sobrevivência por quantidade de pais/filho\n",
    "graf_survived('Parch',['Parch', 'Survived'], 'Passenger');\n",
    "plt.title('Sobreviventes/Não-Sobreviventes por Nº de Pais/Filhos')"
   ]
  },
  {
   "cell_type": "markdown",
   "metadata": {},
   "source": [
    "O gráfico abaixo mostra a sobrevivência das pessoas em relação a quantidade de pais/filhos. Verifica-se que a sobrevivência foi proporcionamente maior entre os que tinha 1 ou dois. Analisando o contexto, isso pode estar relacionado a prioridade de mãe com filhos. \n",
    "************************************\n",
    "### Análise de sobrevivência por quantidade de irmãos"
   ]
  },
  {
   "cell_type": "code",
   "execution_count": 28,
   "metadata": {},
   "outputs": [
    {
     "data": {
      "text/plain": [
       "Text(0.5,1,'Sobreviventes/Não-Sobreviventes por Nº de Irmãos')"
      ]
     },
     "execution_count": 28,
     "metadata": {},
     "output_type": "execute_result"
    },
    {
     "data": {
      "image/png": "[encoded data removed]",
      "text/plain": [
       "<Figure size 576x360 with 1 Axes>"
      ]
     },
     "metadata": {},
     "output_type": "display_data"
    }
   ],
   "source": [
    "#Plote gráfico de sobrevivência por quantidade de irmãos\n",
    "graf_survived('SibSp',['SibSp', 'Survived'], 'Nº de Passageiros');\n",
    "plt.title('Sobreviventes/Não-Sobreviventes por Nº de Irmãos')"
   ]
  },
  {
   "cell_type": "markdown",
   "metadata": {},
   "source": [
    "De forma análoga aos pais/filhos, comportamento pode ser também observado no gráfico acima, onde mostra por quantida de irmãos. Observa-se que quem tinha um irmão(a) teve mais chance de sobreviver.\n",
    "\n",
    "*************************************************************\n",
    "## Análise pela Correlação de Pearson"
   ]
  },
  {
   "cell_type": "code",
   "execution_count": 29,
   "metadata": {},
   "outputs": [
    {
     "name": "stdout",
     "output_type": "stream",
     "text": [
      "Matriz de Correlação de Pearson\n",
      "              PassengerId  Survived  Pclass   Age  SibSp  Parch  Fare\n",
      "PassengerId         1.00     -0.01   -0.04  0.03  -0.06  -0.00  0.01\n",
      "Survived           -0.01      1.00   -0.34 -0.07  -0.03   0.08  0.26\n",
      "Pclass             -0.04     -0.34    1.00 -0.33   0.08   0.02 -0.55\n",
      "Age                 0.03     -0.07   -0.33  1.00  -0.23  -0.18  0.09\n",
      "SibSp              -0.06     -0.03    0.08 -0.23   1.00   0.41  0.16\n",
      "Parch              -0.00      0.08    0.02 -0.18   0.41   1.00  0.22\n",
      "Fare                0.01      0.26   -0.55  0.09   0.16   0.22  1.00\n",
      "\n",
      "Matriz de R^2\n",
      "              PassengerId  Survived  Pclass   Age  SibSp  Parch  Fare\n",
      "PassengerId          1.0      0.00    0.00  0.00   0.00   0.00  0.00\n",
      "Survived             0.0      1.00    0.11  0.01   0.00   0.01  0.07\n",
      "Pclass               0.0      0.11    1.00  0.11   0.01   0.00  0.30\n",
      "Age                  0.0      0.01    0.11  1.00   0.05   0.03  0.01\n",
      "SibSp                0.0      0.00    0.01  0.05   1.00   0.17  0.03\n",
      "Parch                0.0      0.01    0.00  0.03   0.17   1.00  0.05\n",
      "Fare                 0.0      0.07    0.30  0.01   0.03   0.05  1.00\n"
     ]
    }
   ],
   "source": [
    "#Matriz de correlação\n",
    "r = df_tt.corr()\n",
    "r2 = r**2\n",
    "print('Matriz de Correlação de Pearson\\n',round(r, 2))\n",
    "\n",
    "print('\\nMatriz de R^2\\n',round(r2, 2))\n"
   ]
  },
  {
   "cell_type": "markdown",
   "metadata": {},
   "source": [
    "Conforme mostra a maytoz de correlação de Pearson, verifica-se que as variáveis Survived e Pclass tem uma correlação de 0,34 e Fare e Survived 0,26 (Matriz de R^2). Embora também fracas são as únicas correlações relacionadas a sobrevivência. Adicionamente estas conseguem conseguem explicar a sobrevência apenas em 11% e 7% respectivamente.\n",
    "\n",
    "As variáveis Pclass e Fare tem a correlação de 0,55 e explicaação de 30% entre si, porém tais informações tem pouca explicação.\n",
    "******************************************\n",
    "\n",
    "## Principais conclusões\n",
    "\n",
    "### 1. Pessoas de qual sexo teve maior taxa de sobrevivência?\n",
    "Observou-se que houve maior taxa de sobrevivência entre o sexo feminino.\n",
    "\n",
    "### 2. Como foi o comportamento de sobrevivência por classe?\n",
    "Houve maior taxa de sobrevivência na primeira classe e a pior na terceira classe. \n",
    "Adionalmente, observou-se que quando separado por sexo, as mulheres teve boa taxa de sobrevivência tanto na 1ª quanto na 2ª classe. Já entre os homens até mesmo na 1ª classe a sobrevivência foi menor que as mortes.\n",
    "\n",
    "### 3. Como foi a sobrevivência por idade?\n",
    "Quanto a sobrevivência por idade obervou-se que a idade mediana do passageiros era de 29.7 anos e taxa de sobrevivência foi maior entre os mais novos.\n",
    "\n",
    "### 4. Qual foi a tarifa média entre sobreviventes e mortos?\n",
    "A tarifa média entre os mortos foi de 22.12 e entre os sobreviventes foi de 48.40.\n",
    "\n",
    "### 5. Como foi o comportamento de sobrevivência por quantidade de pais/filhos e por irmãos?\n",
    "A taxa de sobrevivência foi maior nos casos em que o passageiro tinha 1 ou 2 familiares a brdo, tanto na comparação pai/filho, como irmãos.\n",
    "\n",
    "### 6. Há alguma correlação entre as variáveis disponíveis?\n",
    "Quanto as correlações, verificou-se coorrelação moderada entre o valor da tarifa e a classe ocupada e fraca entre Survived x Pclasse e Survived x Fare, mas o poder de explicação é de 11% e 7%, respectivamente.\n",
    "****************************************************************************************************\n",
    "\n",
    "## Limitações desta análise\n",
    "1. Consiste em estudo descritivo, sem quaisquer testes inferenciais, e portanto, não pode ser inferido como válido para outros casos.\n",
    "\n",
    "2. O estudo das idade não são totalmente precisos por haviam 177 campos em branco que foram preenchidos com a média.\n",
    "\n",
    "3. Mesmo se aplicado os testes inferenciais posteriormente, as variáveis disponíveis são limitadas para preditividade de outros casos pelos seguintes motivos:\n",
    "\n",
    "Não tem disponível as variáveis que caracterizam o navio;\n",
    "\n",
    "Falta informação de clima, ventos e outras condições ambientais;\n",
    "\n",
    "A tecnologia atual pode ser muito diferente da época no sentido de segurança a vida.\n",
    "\n",
    "**********************************************************************************************************\n",
    "\n",
    "## Referências\n",
    "http://rstudio-pubs-static.s3.amazonaws.com/24969_894d890964fd4308ab537bfde1f784d2.html\n",
    "\n",
    "http://minerandodados.com.br/index.php/2017/04/27/exploratory-data-analysis-eda/\n",
    "\n",
    "http://carlosbaia.com/2017/08/17/visualizacao-e-analise-de-dados/\n",
    "\n",
    "https://ahmedbesbes.com/how-to-score-08134-in-titanic-kaggle-challenge.html"
   ]
  },
  {
   "cell_type": "code",
   "execution_count": null,
   "metadata": {},
   "outputs": [],
   "source": []
  }
 ],
 "metadata": {
  "kernelspec": {
   "display_name": "Python 3",
   "language": "python",
   "name": "python3"
  },
  "language_info": {
   "codemirror_mode": {
    "name": "ipython",
    "version": 3
   },
   "file_extension": ".py",
   "mimetype": "text/x-python",
   "name": "python",
   "nbconvert_exporter": "python",
   "pygments_lexer": "ipython3",
   "version": "3.6.5"
  }
 },
 "nbformat": 4,
 "nbformat_minor": 2
}
